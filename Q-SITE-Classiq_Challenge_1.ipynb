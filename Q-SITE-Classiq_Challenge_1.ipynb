{
 "cells": [
  {
   "cell_type": "markdown",
   "metadata": {},
   "source": [
    "# Q-SITE Classiq Coding Challenge - Lab 1"
   ]
  },
  {
   "cell_type": "markdown",
   "metadata": {},
   "source": [
    "## **Getting Started with Classiq**\n",
    "\n",
    "Welcome to Classiq! To begin exploring the world of quantum computing with us, you'll need to register on our platform and set up the Python SDK. Follow these simple steps, and you'll be ready to start coding in no time.\n",
    "\n",
    "### **Step 1: Register on the Classiq Platform**\n",
    "\n",
    "1. **Sign Up:** Head over to [platform.classiq.io](https://platform.classiq.io) and click the **Sign Up** button.\n",
    "2. **Choose Your Method:** You can register using your Google, Microsoft, or any other email after accepting our terms of use.\n",
    "3. **Complete Your Profile:** Fill in the required information on the following screen.\n",
    "4. **Welcome to Classiq:** Once you’ve completed the registration, you'll be directed to the Classiq platform homepage. You’re all set!\n",
    "\n",
    "![Classiq Registration](https://docs.classiq.io/resources/signup.gif)\n",
    "\n",
    "### **Step 2: Join Our Slack Community**\n",
    "\n",
    "Join our vibrant Slack community for technical support, quantum computing discussions, and more.\n",
    "\n",
    "1. **Sign Up:** Click [here](#) to join the Classiq Community Slack workspace.\n",
    "2. **Choose Your Method:** Sign up with your Google, Apple, or any other email account.\n",
    "\n",
    "   <img src=\"https://docs.classiq.io/resources/signup_slack.png\" alt=\"Slack Registration\" width=\"400\"/>\n",
    "\n",
    "### **Step 3: Install the Classiq Python SDK**\n",
    "\n",
    "To integrate with the Classiq platform, install our Python SDK.\n",
    "\n",
    "1. **Ensure Compatibility:** The SDK supports Python versions 3.8 to 3.11.\n",
    "2. **Install the SDK:**\n",
    "```bash\n",
    "   pip install -U classiq\n",
    "```"
   ]
  },
  {
   "cell_type": "code",
   "execution_count": 11,
   "metadata": {},
   "outputs": [
    {
     "name": "stdout",
     "output_type": "stream",
     "text": [
      "Requirement already satisfied: classiq==0.46 in c:\\users\\alex\\miniconda3\\envs\\quantum\\lib\\site-packages (0.46.0)\n",
      "Requirement already satisfied: ConfigArgParse<2.0.0,>=1.5.3 in c:\\users\\alex\\miniconda3\\envs\\quantum\\lib\\site-packages (from classiq==0.46) (1.7)\n",
      "Requirement already satisfied: Pyomo<6.6,>=6.5 in c:\\users\\alex\\miniconda3\\envs\\quantum\\lib\\site-packages (from classiq==0.46) (6.5.0)\n",
      "Requirement already satisfied: black<25.0,>=24.0 in c:\\users\\alex\\miniconda3\\envs\\quantum\\lib\\site-packages (from classiq==0.46) (24.8.0)\n",
      "Requirement already satisfied: httpx<1,>=0.23.0 in c:\\users\\alex\\miniconda3\\envs\\quantum\\lib\\site-packages (from classiq==0.46) (0.27.2)\n",
      "Requirement already satisfied: keyring<24.0.0,>=23.5.0 in c:\\users\\alex\\miniconda3\\envs\\quantum\\lib\\site-packages (from classiq==0.46) (23.13.1)\n",
      "Requirement already satisfied: matplotlib<4.0.0,>=3.4.3 in c:\\users\\alex\\miniconda3\\envs\\quantum\\lib\\site-packages (from classiq==0.46) (3.8.3)\n",
      "Requirement already satisfied: networkx<3.0.0,>=2.5.1 in c:\\users\\alex\\miniconda3\\envs\\quantum\\lib\\site-packages (from classiq==0.46) (2.8.8)\n",
      "Requirement already satisfied: numexpr<3.0.0,>=2.7.3 in c:\\users\\alex\\miniconda3\\envs\\quantum\\lib\\site-packages (from classiq==0.46) (2.10.1)\n",
      "Requirement already satisfied: numpy<2.0.0,>=1.20.1 in c:\\users\\alex\\miniconda3\\envs\\quantum\\lib\\site-packages (from classiq==0.46) (1.26.4)\n",
      "Requirement already satisfied: packaging<24.0,>=23.2 in c:\\users\\alex\\miniconda3\\envs\\quantum\\lib\\site-packages (from classiq==0.46) (23.2)\n",
      "Requirement already satisfied: pandas<3.0.0,>=1.4.0 in c:\\users\\alex\\miniconda3\\envs\\quantum\\lib\\site-packages (from classiq==0.46) (2.2.0)\n",
      "Requirement already satisfied: plotly<6.0.0,>=5.7.0 in c:\\users\\alex\\miniconda3\\envs\\quantum\\lib\\site-packages (from classiq==0.46) (5.22.0)\n",
      "Requirement already satisfied: pydantic<2.0.0,>=1.9.1 in c:\\users\\alex\\appdata\\roaming\\python\\python311\\site-packages (from classiq==0.46) (1.10.18)\n",
      "Requirement already satisfied: scipy<2.0.0,>=1.10.1 in c:\\users\\alex\\miniconda3\\envs\\quantum\\lib\\site-packages (from classiq==0.46) (1.12.0)\n",
      "Requirement already satisfied: sympy<2.0.0,>=1.13.0 in c:\\users\\alex\\miniconda3\\envs\\quantum\\lib\\site-packages (from classiq==0.46) (1.13.3)\n",
      "Requirement already satisfied: tabulate<1,>=0.8.9 in c:\\users\\alex\\miniconda3\\envs\\quantum\\lib\\site-packages (from classiq==0.46) (0.9.0)\n",
      "Requirement already satisfied: click>=8.0.0 in c:\\users\\alex\\miniconda3\\envs\\quantum\\lib\\site-packages (from black<25.0,>=24.0->classiq==0.46) (8.1.7)\n",
      "Requirement already satisfied: mypy-extensions>=0.4.3 in c:\\users\\alex\\miniconda3\\envs\\quantum\\lib\\site-packages (from black<25.0,>=24.0->classiq==0.46) (1.0.0)\n",
      "Requirement already satisfied: pathspec>=0.9.0 in c:\\users\\alex\\miniconda3\\envs\\quantum\\lib\\site-packages (from black<25.0,>=24.0->classiq==0.46) (0.12.1)\n",
      "Requirement already satisfied: platformdirs>=2 in c:\\users\\alex\\miniconda3\\envs\\quantum\\lib\\site-packages (from black<25.0,>=24.0->classiq==0.46) (4.2.0)\n",
      "Requirement already satisfied: anyio in c:\\users\\alex\\miniconda3\\envs\\quantum\\lib\\site-packages (from httpx<1,>=0.23.0->classiq==0.46) (4.6.0)\n",
      "Requirement already satisfied: certifi in c:\\users\\alex\\miniconda3\\envs\\quantum\\lib\\site-packages (from httpx<1,>=0.23.0->classiq==0.46) (2024.2.2)\n",
      "Requirement already satisfied: httpcore==1.* in c:\\users\\alex\\miniconda3\\envs\\quantum\\lib\\site-packages (from httpx<1,>=0.23.0->classiq==0.46) (1.0.5)\n",
      "Requirement already satisfied: idna in c:\\users\\alex\\miniconda3\\envs\\quantum\\lib\\site-packages (from httpx<1,>=0.23.0->classiq==0.46) (3.6)\n",
      "Requirement already satisfied: sniffio in c:\\users\\alex\\miniconda3\\envs\\quantum\\lib\\site-packages (from httpx<1,>=0.23.0->classiq==0.46) (1.3.1)\n",
      "Requirement already satisfied: h11<0.15,>=0.13 in c:\\users\\alex\\miniconda3\\envs\\quantum\\lib\\site-packages (from httpcore==1.*->httpx<1,>=0.23.0->classiq==0.46) (0.14.0)\n",
      "Requirement already satisfied: jaraco.classes in c:\\users\\alex\\miniconda3\\envs\\quantum\\lib\\site-packages (from keyring<24.0.0,>=23.5.0->classiq==0.46) (3.4.0)\n",
      "Requirement already satisfied: importlib-metadata>=4.11.4 in c:\\users\\alex\\miniconda3\\envs\\quantum\\lib\\site-packages (from keyring<24.0.0,>=23.5.0->classiq==0.46) (7.1.0)\n",
      "Requirement already satisfied: pywin32-ctypes>=0.2.0 in c:\\users\\alex\\miniconda3\\envs\\quantum\\lib\\site-packages (from keyring<24.0.0,>=23.5.0->classiq==0.46) (0.2.3)\n",
      "Requirement already satisfied: contourpy>=1.0.1 in c:\\users\\alex\\miniconda3\\envs\\quantum\\lib\\site-packages (from matplotlib<4.0.0,>=3.4.3->classiq==0.46) (1.2.0)\n",
      "Requirement already satisfied: cycler>=0.10 in c:\\users\\alex\\appdata\\roaming\\python\\python311\\site-packages (from matplotlib<4.0.0,>=3.4.3->classiq==0.46) (0.12.1)\n",
      "Requirement already satisfied: fonttools>=4.22.0 in c:\\users\\alex\\miniconda3\\envs\\quantum\\lib\\site-packages (from matplotlib<4.0.0,>=3.4.3->classiq==0.46) (4.49.0)\n",
      "Requirement already satisfied: kiwisolver>=1.3.1 in c:\\users\\alex\\appdata\\roaming\\python\\python311\\site-packages (from matplotlib<4.0.0,>=3.4.3->classiq==0.46) (1.4.5)\n",
      "Requirement already satisfied: pillow>=8 in c:\\users\\alex\\miniconda3\\envs\\quantum\\lib\\site-packages (from matplotlib<4.0.0,>=3.4.3->classiq==0.46) (10.2.0)\n",
      "Requirement already satisfied: pyparsing>=2.3.1 in c:\\users\\alex\\appdata\\roaming\\python\\python311\\site-packages (from matplotlib<4.0.0,>=3.4.3->classiq==0.46) (3.1.1)\n",
      "Requirement already satisfied: python-dateutil>=2.7 in c:\\users\\alex\\miniconda3\\envs\\quantum\\lib\\site-packages (from matplotlib<4.0.0,>=3.4.3->classiq==0.46) (2.8.2)\n",
      "Requirement already satisfied: pytz>=2020.1 in c:\\users\\alex\\miniconda3\\envs\\quantum\\lib\\site-packages (from pandas<3.0.0,>=1.4.0->classiq==0.46) (2024.1)\n",
      "Requirement already satisfied: tzdata>=2022.7 in c:\\users\\alex\\miniconda3\\envs\\quantum\\lib\\site-packages (from pandas<3.0.0,>=1.4.0->classiq==0.46) (2024.1)\n",
      "Requirement already satisfied: tenacity>=6.2.0 in c:\\users\\alex\\miniconda3\\envs\\quantum\\lib\\site-packages (from plotly<6.0.0,>=5.7.0->classiq==0.46) (8.2.3)\n",
      "Requirement already satisfied: typing-extensions>=4.2.0 in c:\\users\\alex\\miniconda3\\envs\\quantum\\lib\\site-packages (from pydantic<2.0.0,>=1.9.1->classiq==0.46) (4.9.0)\n",
      "Requirement already satisfied: ply in c:\\users\\alex\\miniconda3\\envs\\quantum\\lib\\site-packages (from Pyomo<6.6,>=6.5->classiq==0.46) (3.11)\n",
      "Requirement already satisfied: mpmath<1.4,>=1.1.0 in c:\\users\\alex\\miniconda3\\envs\\quantum\\lib\\site-packages (from sympy<2.0.0,>=1.13.0->classiq==0.46) (1.3.0)\n",
      "Requirement already satisfied: colorama in c:\\users\\alex\\miniconda3\\envs\\quantum\\lib\\site-packages (from click>=8.0.0->black<25.0,>=24.0->classiq==0.46) (0.4.6)\n",
      "Requirement already satisfied: zipp>=0.5 in c:\\users\\alex\\miniconda3\\envs\\quantum\\lib\\site-packages (from importlib-metadata>=4.11.4->keyring<24.0.0,>=23.5.0->classiq==0.46) (3.18.1)\n",
      "Requirement already satisfied: six>=1.5 in c:\\users\\alex\\miniconda3\\envs\\quantum\\lib\\site-packages (from python-dateutil>=2.7->matplotlib<4.0.0,>=3.4.3->classiq==0.46) (1.16.0)\n",
      "Requirement already satisfied: more-itertools in c:\\users\\alex\\miniconda3\\envs\\quantum\\lib\\site-packages (from jaraco.classes->keyring<24.0.0,>=23.5.0->classiq==0.46) (10.5.0)\n"
     ]
    }
   ],
   "source": [
    "# Excute the following code if you haven't installed classiq package\n",
    "!pip install classiq==0.46 --user"
   ]
  },
  {
   "cell_type": "markdown",
   "metadata": {},
   "source": [
    "\n",
    "### **Authenticate Your Account**\n",
    "\n",
    "After installing the SDK, you need to authenticate your device with your Classiq account.\n",
    "\n",
    "1. **In Python, execute the following:**\n",
    "\n",
    "   ```python\n",
    "   import classiq\n",
    "   classiq.authenticate()\n",
    "   ```\n",
    "\n",
    "\n",
    "2. **Confirm Authentication:**\n",
    "\n",
    "   This will open a confirmation window in your web browser. Confirm the authentication, and you're good to go!\n",
    "\n",
    "   <img src=\"https://docs.classiq.io/resources/signup_authentication.png\" alt=\"Confirmation_Auth\" width=\"400\"/>"
   ]
  },
  {
   "cell_type": "code",
   "execution_count": 3,
   "metadata": {},
   "outputs": [],
   "source": [
    "if False:\n",
    "    import classiq\n",
    "    classiq.authenticate()"
   ]
  },
  {
   "cell_type": "markdown",
   "metadata": {},
   "source": [
    "## **Keeping Your SDK Up-to-Date**\n",
    "\n",
    "Our platform is frequently updated to provide you with the latest tools and features.\n",
    "\n",
    "- **Update the SDK:**\n",
    "\n",
    "  ```bash\n",
    "  pip install -U classiq\n",
    "  ```\n",
    "\n",
    "- **Install a Specific Version:**\n",
    "\n",
    "  ```bash\n",
    "  pip install classiq=={DESIRED_VERSION}\n",
    "  ```\n",
    "\n",
    "  Replace `{DESIRED_VERSION}` with the version number you want, e.g., `0.40`.\n",
    "\n",
    "- **Check Your Current Version:**\n",
    "\n",
    "  ```bash\n",
    "  pip show classiq\n",
    "  ```\n",
    "\n",
    "**Note:** Only the most recent versions of the Classiq SDK are supported. Using older versions may result in errors or warnings.\n",
    "\n",
    "If you run into any issues, check our troubleshooting section or ask for help in our Slack community.\n"
   ]
  },
  {
   "cell_type": "code",
   "execution_count": 12,
   "metadata": {},
   "outputs": [
    {
     "name": "stdout",
     "output_type": "stream",
     "text": [
      "Name: classiq\n",
      "Version: 0.46.0\n",
      "Summary: Classiq's Python SDK for quantum computing\n",
      "Home-page: https://classiq.io\n",
      "Author: Classiq Technologies\n",
      "Author-email: support@classiq.io\n",
      "License: Proprietary\n",
      "Location: c:\\Users\\alex\\miniconda3\\envs\\quantum\\Lib\\site-packages\n",
      "Requires: black, ConfigArgParse, httpx, keyring, matplotlib, networkx, numexpr, numpy, packaging, pandas, plotly, pydantic, Pyomo, scipy, sympy, tabulate\n",
      "Required-by: \n"
     ]
    }
   ],
   "source": [
    "#Please make show your version is updated\n",
    "!pip show classiq"
   ]
  },
  {
   "cell_type": "markdown",
   "metadata": {},
   "source": [
    "## First Challenge - Hello Many Worlds"
   ]
  },
  {
   "cell_type": "markdown",
   "metadata": {},
   "source": [
    "Welcome to your first quantum coding challenge using Classiq! In this challenge, you'll design, optimize, analyze, and execute a quantum algorithm to solve the equation **y = x² + x + 1** using a quantum circuit. \n",
    "\n",
    "Don't know how to design a quantum circuit for algebra? Don't worry! Classiq will automatically design the quantum circuit for you, based on your request.\n",
    "\n",
    "Follow the steps below to complete this \"Hello World\" of quantum computing.\n",
    "\n",
    "\n",
    "\n",
    "### **1. Design (SDK)**\n",
    "\n",
    "Start by designing your quantum algorithm. Run the following code in your favorite Python SDK environment (after installing Classiq):\n",
    "\n",
    "```python\n",
    "@qfunc\n",
    "def main(x: Output[QNum], y: Output[QNum]):\n",
    "\n",
    "    allocate(4, x)\n",
    "    hadamard_transform(x)  # creates a uniform superposition\n",
    "    y |= ***The Equation you want to solve***\n",
    "```\n",
    "\n",
    "\n",
    "---\n",
    "#### **Note: Hadamard Transformation**\n",
    "\n",
    "The Hadamard transformation is a key operation in quantum computing that puts a qubit into a superposition state, allowing it to represent both $|0\\rangle$ and $|1\\rangle$ simultaneously.\n",
    "\n",
    "In Classiq, you can easily apply the Hadamard transformation to a qubit or a set of qubits using the `hadamard_transform(x)` function, where `x` is your qubit variable.\n",
    "\n",
    "```python\n",
    "hadamard_transform(x)  # Applies the Hadamard transformation to qubit x\n",
    "```\n",
    "---"
   ]
  },
  {
   "cell_type": "markdown",
   "metadata": {},
   "source": [
    "For example, if you want to solve `y = x`, then you need to let `qfunc` know by writing `y |= x`.\n",
    "\n",
    "For this challenge, you need to solve `y = x^2 + x + 1`.\n"
   ]
  },
  {
   "cell_type": "code",
   "execution_count": 14,
   "metadata": {},
   "outputs": [],
   "source": [
    "from classiq import *\n",
    "\n",
    "@qfunc\n",
    "def main(x: Output[QNum], y: Output[QNum]):\n",
    "\n",
    "    allocate(4, x)\n",
    "    hadamard_transform(x)  # creates a uniform superposition\n",
    "\n",
    "    #### Please don't change above code###\n",
    "    #### Your Answer #####################\n",
    "    y |= x**2 + x + 1\n",
    "    ######################################"
   ]
  },
  {
   "cell_type": "markdown",
   "metadata": {},
   "source": [
    "### **2. Optimize (SDK)**\n",
    "\n",
    "Optimize your algorithm with the following code:"
   ]
  },
  {
   "cell_type": "code",
   "execution_count": 15,
   "metadata": {},
   "outputs": [],
   "source": [
    "quantum_model = create_model(main)\n",
    "quantum_program = synthesize(quantum_model)"
   ]
  },
  {
   "cell_type": "markdown",
   "metadata": {},
   "source": [
    "\n",
    "### **3. Analyze (IDE)**\n",
    "\n",
    "Analyze the quantum circuit in the IDE by running this code:"
   ]
  },
  {
   "cell_type": "code",
   "execution_count": 16,
   "metadata": {},
   "outputs": [
    {
     "name": "stdout",
     "output_type": "stream",
     "text": [
      "Opening: https://platform.classiq.io/circuit/8b7ed988-d77c-40fd-8d3e-66086baf6388?version=0.46.1\n"
     ]
    }
   ],
   "source": [
    "show(quantum_program)"
   ]
  },
  {
   "cell_type": "markdown",
   "metadata": {},
   "source": [
    "Check that you receive two blocks in the quantum circuit: `hadamard_transform` and `Arithmetic`. Then proceed to the execution step."
   ]
  },
  {
   "cell_type": "markdown",
   "metadata": {},
   "source": [
    "### **4. Execute Your Quantum Program**\n",
    "\n",
    "#### **Method 1: Execute in the IDE**\n",
    "\n",
    "1. In the IDE, navigate to the **Execution** tab.\n",
    "2. Under the **Classiq provider**, choose the **simulator** (ensure that other options are not selected).\n",
    "3. Change the job name to \"hello world\" and click **Run**.\n",
    "4. In the **Jobs** tab, check the results by hovering over the histogram bars to verify you receive 16 bars, each encapsulating the correct relation between `x` and `y`.\n",
    "\n",
    "#### **Method 2: Execute in the Python SDK**\n",
    "\n",
    "To execute your quantum program directly in the Python SDK, use the following code:"
   ]
  },
  {
   "cell_type": "code",
   "execution_count": 17,
   "metadata": {},
   "outputs": [
    {
     "name": "stdout",
     "output_type": "stream",
     "text": [
      "[{'x': 6.0, 'y': 43.0}: 147, {'x': 2.0, 'y': 7.0}: 144, {'x': 5.0, 'y': 31.0}: 141, {'x': 3.0, 'y': 13.0}: 139, {'x': 8.0, 'y': 73.0}: 139, {'x': 7.0, 'y': 57.0}: 135, {'x': 10.0, 'y': 111.0}: 131, {'x': 11.0, 'y': 133.0}: 129, {'x': 12.0, 'y': 157.0}: 128, {'x': 9.0, 'y': 91.0}: 124, {'x': 4.0, 'y': 21.0}: 122, {'x': 13.0, 'y': 183.0}: 121, {'x': 14.0, 'y': 211.0}: 116, {'x': 0.0, 'y': 1.0}: 112, {'x': 15.0, 'y': 241.0}: 112, {'x': 1.0, 'y': 3.0}: 108]\n"
     ]
    }
   ],
   "source": [
    "# This will run the quantum program and output the results directly in your Python environment.\n",
    "job = execute(quantum_program)\n",
    "results = job.result()[0].value.parsed_counts\n",
    "print(results)"
   ]
  },
  {
   "cell_type": "markdown",
   "metadata": {},
   "source": [
    "Check whether the result is correct. For example, if `x = 13`, you should obtain `13^2 + 13 + 1 = 183`.\n"
   ]
  },
  {
   "cell_type": "markdown",
   "metadata": {},
   "source": [
    "### Now save the QASM file for Grading!"
   ]
  },
  {
   "cell_type": "code",
   "execution_count": 18,
   "metadata": {},
   "outputs": [
    {
     "name": "stdout",
     "output_type": "stream",
     "text": [
      "QASM file saved at: qsite_challenge_1.qasm\n"
     ]
    }
   ],
   "source": [
    "qasm = QuantumProgram.from_qprog(quantum_program).qasm\n",
    "\n",
    "# Specify the file path where you want to save the QASM file\n",
    "file_path = \"qsite_challenge_1.qasm\"\n",
    "\n",
    "# Save the QASM string to a file\n",
    "with open(file_path, 'w') as file:\n",
    "    file.write(qasm)\n",
    "\n",
    "print(f\"QASM file saved at: {file_path}\")"
   ]
  },
  {
   "cell_type": "markdown",
   "metadata": {},
   "source": [
    "\n",
    "### **5. Save Your Quantum Model**\n",
    "\n",
    "Finally, save your quantum model for future use:"
   ]
  },
  {
   "cell_type": "code",
   "execution_count": 19,
   "metadata": {},
   "outputs": [],
   "source": [
    "write_qmod(create_model(main), \"qsite_challenge_1\")"
   ]
  },
  {
   "cell_type": "markdown",
   "metadata": {},
   "source": [
    "\n",
    "---\n",
    "\n",
    "**That's it!** You've just completed the \"Hello World\" quantum computing example using a mixed flow of the IDE and Python SDK. You're now ready to continue with more advanced topics with Classiq. Enjoy your journey into quantum computing!\n",
    "\n",
    "---\n"
   ]
  },
  {
   "cell_type": "markdown",
   "metadata": {},
   "source": [
    "## Additional information\n",
    "\n",
    "#### Created by : Louis Chen\n",
    "\n",
    "#### Advised by : Tali Cohn, Eden Schirman  "
   ]
  },
  {
   "cell_type": "markdown",
   "metadata": {},
   "source": []
  }
 ],
 "metadata": {
  "kernelspec": {
   "display_name": "Python 3",
   "language": "python",
   "name": "python3"
  },
  "language_info": {
   "codemirror_mode": {
    "name": "ipython",
    "version": 3
   },
   "file_extension": ".py",
   "mimetype": "text/x-python",
   "name": "python",
   "nbconvert_exporter": "python",
   "pygments_lexer": "ipython3",
   "version": "3.11.4"
  }
 },
 "nbformat": 4,
 "nbformat_minor": 2
}
