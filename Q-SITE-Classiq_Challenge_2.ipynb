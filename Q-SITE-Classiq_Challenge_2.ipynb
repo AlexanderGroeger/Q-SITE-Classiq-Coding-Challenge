{
 "cells": [
  {
   "cell_type": "markdown",
   "metadata": {},
   "source": [
    "# Q-SITE Classiq Coding Challenge - Lab 2"
   ]
  },
  {
   "cell_type": "markdown",
   "metadata": {},
   "source": [
    "### Second Challenge: Mastering Phase Kickback with Classiq"
   ]
  },
  {
   "cell_type": "markdown",
   "metadata": {},
   "source": [
    "---\n",
    "### Objective:\n",
    "Welcome to the Quantum Chemistry Challenge! Your task is to harness the power of the phase kickback primitive—a crucial operation in quantum computing—to manipulate and extract data smartly through constructive and destructive interference. You will implement phase kickback to observe its effects on quantum states, using Classiq’s powerful quantum programming framework.\n",
    "\n",
    "---\n"
   ]
  },
  {
   "cell_type": "markdown",
   "metadata": {},
   "source": [
    "### **Phase Kickback in Quantum Computing**\n",
    "hase kickback is a fundamental and widely used primitive in quantum computing. It is a process where the result of a function is transferred to the phase of a quantum state. This transfer is crucial because it allows the phase to be manipulated using constructive and destructive interference, leading to the desired computational outcome.\n",
    "\n",
    "In quantum computing, algorithms are generally structured into three key steps:\n",
    "1. **Encoding the Data:** Preparing the quantum states with the necessary information.\n",
    "2. **Manipulating the Data:** Applying quantum operations that process the encoded information.\n",
    "3. **Extracting the Result:** Measuring the quantum states to obtain the final result.\n",
    "\n",
    "Phase kickback plays a critical role in the manipulation stage, enabling the accurate extraction of results by influencing the phase of quantum states.\n",
    "\n",
    "### **How Does Phase Kickback Work?**\n",
    "\n",
    "The standard way to apply a classical function $f : \\{0, 1\\}^n \\rightarrow \\{0, 1\\}$ on quantum states is by using the oracle model. In this model, the oracle $O_f$ acts on quantum states $|x\\rangle$ and $|y\\rangle$ as follows:\n",
    "$\n",
    "O_f(|x\\rangle|y\\rangle) = |x\\rangle|y \\oplus f(x)\\rangle\n",
    "$\n",
    "Here, $|x\\rangle$ and $|y\\rangle$ are the argument and target quantum states, respectively, and $\\oplus$ represents addition modulo 2 or the XOR operation.\n",
    "\n",
    "The phase kickback primitive takes this oracle $O_f$ as input and performs the operation:\n",
    "$\n",
    "|x\\rangle \\rightarrow (-1)^{f(x)}|x\\rangle\n",
    "$\n",
    "This operation can be applied to a superposition of states:\n",
    "$\n",
    "\\sum_{i=0}^{2^n-1} \\alpha_i |x_i\\rangle \\rightarrow \\sum_{i=0}^{2^n-1} (-1)^{f(x_i)} \\alpha_i |x_i\\rangle\n",
    "$\n",
    "where $\\alpha_i$ is the amplitude of the state $|x_i\\rangle$.\n",
    "\n",
    "### **Why is Phase Kickback Important?**\n",
    "\n",
    "The beauty of phase kickback lies in its simplicity. By applying the oracle $O_f$ to the target quantum state $|-\\rangle = \\frac{1}{\\sqrt{2}} (|0\\rangle - |1\\rangle)$, we get:\n",
    "$\n",
    "O_f(|x\\rangle|-\\rangle) = (-1)^{f(x)}|x\\rangle|-\\rangle\n",
    "$\n",
    "This effectively achieves the desired transformation:\n",
    "$\n",
    "|x\\rangle \\rightarrow (-1)^{f(x)}|x\\rangle\n",
    "$\n",
    "Through this mechanism, the phase of the quantum state $|x\\rangle$ is modified based on the function $f(x)$, which is essential in many quantum algorithms such as the Deutsch-Jozsa and Simon's algorithms.\n",
    "\n",
    "### **Challenge Overview**\n",
    "\n",
    "In this challenge, you will implement phase kickback using Classiq's quantum programming framework. You'll construct a quantum circuit that leverages phase kickback to manipulate quantum states, applying the principles described above. This exercise will help you understand the power of phase manipulation in quantum computing and its applications in various quantum algorithms.\n",
    "\n",
    "Now, let's dive into coding and see phase kickback in action!"
   ]
  },
  {
   "cell_type": "code",
   "execution_count": 1,
   "metadata": {},
   "outputs": [],
   "source": [
    "from classiq import *"
   ]
  },
  {
   "cell_type": "code",
   "execution_count": 30,
   "metadata": {},
   "outputs": [
    {
     "name": "stdout",
     "output_type": "stream",
     "text": [
      "Requirement already satisfied: classiq in c:\\users\\alex\\miniconda3\\envs\\quantum\\lib\\site-packages (0.46.0)\n",
      "Collecting classiq\n",
      "  Downloading classiq-0.50.0-py3-none-any.whl.metadata (3.5 kB)\n",
      "Requirement already satisfied: ConfigArgParse<2.0.0,>=1.5.3 in c:\\users\\alex\\miniconda3\\envs\\quantum\\lib\\site-packages (from classiq) (1.7)\n",
      "Requirement already satisfied: Pyomo<6.6,>=6.5 in c:\\users\\alex\\miniconda3\\envs\\quantum\\lib\\site-packages (from classiq) (6.5.0)\n",
      "Requirement already satisfied: black<25.0,>=24.0 in c:\\users\\alex\\miniconda3\\envs\\quantum\\lib\\site-packages (from classiq) (24.8.0)\n",
      "Requirement already satisfied: httpx<1,>=0.23.0 in c:\\users\\alex\\miniconda3\\envs\\quantum\\lib\\site-packages (from classiq) (0.27.2)\n",
      "Requirement already satisfied: keyring<24.0.0,>=23.5.0 in c:\\users\\alex\\miniconda3\\envs\\quantum\\lib\\site-packages (from classiq) (23.13.1)\n",
      "Requirement already satisfied: matplotlib<4.0.0,>=3.4.3 in c:\\users\\alex\\miniconda3\\envs\\quantum\\lib\\site-packages (from classiq) (3.8.3)\n",
      "Requirement already satisfied: networkx<3.0.0,>=2.5.1 in c:\\users\\alex\\miniconda3\\envs\\quantum\\lib\\site-packages (from classiq) (2.8.8)\n",
      "Requirement already satisfied: numexpr<3.0.0,>=2.7.3 in c:\\users\\alex\\miniconda3\\envs\\quantum\\lib\\site-packages (from classiq) (2.10.1)\n",
      "Requirement already satisfied: numpy<2.0.0,>=1.20.1 in c:\\users\\alex\\miniconda3\\envs\\quantum\\lib\\site-packages (from classiq) (1.26.4)\n",
      "Requirement already satisfied: packaging<24.0,>=23.2 in c:\\users\\alex\\miniconda3\\envs\\quantum\\lib\\site-packages (from classiq) (23.2)\n",
      "Requirement already satisfied: pandas<3.0.0,>=1.4.0 in c:\\users\\alex\\miniconda3\\envs\\quantum\\lib\\site-packages (from classiq) (2.2.0)\n",
      "Requirement already satisfied: plotly<6.0.0,>=5.7.0 in c:\\users\\alex\\miniconda3\\envs\\quantum\\lib\\site-packages (from classiq) (5.22.0)\n",
      "Requirement already satisfied: pydantic<2.0.0,>=1.9.1 in c:\\users\\alex\\appdata\\roaming\\python\\python311\\site-packages (from classiq) (1.10.18)\n",
      "Requirement already satisfied: scipy<2.0.0,>=1.10.0 in c:\\users\\alex\\miniconda3\\envs\\quantum\\lib\\site-packages (from classiq) (1.12.0)\n",
      "Requirement already satisfied: sympy<2.0.0,>=1.13.0 in c:\\users\\alex\\miniconda3\\envs\\quantum\\lib\\site-packages (from classiq) (1.13.3)\n",
      "Requirement already satisfied: tabulate<1,>=0.8.9 in c:\\users\\alex\\miniconda3\\envs\\quantum\\lib\\site-packages (from classiq) (0.9.0)\n",
      "Requirement already satisfied: click>=8.0.0 in c:\\users\\alex\\miniconda3\\envs\\quantum\\lib\\site-packages (from black<25.0,>=24.0->classiq) (8.1.7)\n",
      "Requirement already satisfied: mypy-extensions>=0.4.3 in c:\\users\\alex\\miniconda3\\envs\\quantum\\lib\\site-packages (from black<25.0,>=24.0->classiq) (1.0.0)\n",
      "Requirement already satisfied: pathspec>=0.9.0 in c:\\users\\alex\\miniconda3\\envs\\quantum\\lib\\site-packages (from black<25.0,>=24.0->classiq) (0.12.1)\n",
      "Requirement already satisfied: platformdirs>=2 in c:\\users\\alex\\miniconda3\\envs\\quantum\\lib\\site-packages (from black<25.0,>=24.0->classiq) (4.2.0)\n",
      "Requirement already satisfied: anyio in c:\\users\\alex\\miniconda3\\envs\\quantum\\lib\\site-packages (from httpx<1,>=0.23.0->classiq) (4.6.0)\n",
      "Requirement already satisfied: certifi in c:\\users\\alex\\miniconda3\\envs\\quantum\\lib\\site-packages (from httpx<1,>=0.23.0->classiq) (2024.2.2)\n",
      "Requirement already satisfied: httpcore==1.* in c:\\users\\alex\\miniconda3\\envs\\quantum\\lib\\site-packages (from httpx<1,>=0.23.0->classiq) (1.0.5)\n",
      "Requirement already satisfied: idna in c:\\users\\alex\\miniconda3\\envs\\quantum\\lib\\site-packages (from httpx<1,>=0.23.0->classiq) (3.6)\n",
      "Requirement already satisfied: sniffio in c:\\users\\alex\\miniconda3\\envs\\quantum\\lib\\site-packages (from httpx<1,>=0.23.0->classiq) (1.3.1)\n",
      "Requirement already satisfied: h11<0.15,>=0.13 in c:\\users\\alex\\miniconda3\\envs\\quantum\\lib\\site-packages (from httpcore==1.*->httpx<1,>=0.23.0->classiq) (0.14.0)\n",
      "Requirement already satisfied: jaraco.classes in c:\\users\\alex\\miniconda3\\envs\\quantum\\lib\\site-packages (from keyring<24.0.0,>=23.5.0->classiq) (3.4.0)\n",
      "Requirement already satisfied: importlib-metadata>=4.11.4 in c:\\users\\alex\\miniconda3\\envs\\quantum\\lib\\site-packages (from keyring<24.0.0,>=23.5.0->classiq) (7.1.0)\n",
      "Requirement already satisfied: pywin32-ctypes>=0.2.0 in c:\\users\\alex\\miniconda3\\envs\\quantum\\lib\\site-packages (from keyring<24.0.0,>=23.5.0->classiq) (0.2.3)\n",
      "Requirement already satisfied: contourpy>=1.0.1 in c:\\users\\alex\\miniconda3\\envs\\quantum\\lib\\site-packages (from matplotlib<4.0.0,>=3.4.3->classiq) (1.2.0)\n",
      "Requirement already satisfied: cycler>=0.10 in c:\\users\\alex\\appdata\\roaming\\python\\python311\\site-packages (from matplotlib<4.0.0,>=3.4.3->classiq) (0.12.1)\n",
      "Requirement already satisfied: fonttools>=4.22.0 in c:\\users\\alex\\miniconda3\\envs\\quantum\\lib\\site-packages (from matplotlib<4.0.0,>=3.4.3->classiq) (4.49.0)\n",
      "Requirement already satisfied: kiwisolver>=1.3.1 in c:\\users\\alex\\appdata\\roaming\\python\\python311\\site-packages (from matplotlib<4.0.0,>=3.4.3->classiq) (1.4.5)\n",
      "Requirement already satisfied: pillow>=8 in c:\\users\\alex\\miniconda3\\envs\\quantum\\lib\\site-packages (from matplotlib<4.0.0,>=3.4.3->classiq) (10.2.0)\n",
      "Requirement already satisfied: pyparsing>=2.3.1 in c:\\users\\alex\\appdata\\roaming\\python\\python311\\site-packages (from matplotlib<4.0.0,>=3.4.3->classiq) (3.1.1)\n",
      "Requirement already satisfied: python-dateutil>=2.7 in c:\\users\\alex\\miniconda3\\envs\\quantum\\lib\\site-packages (from matplotlib<4.0.0,>=3.4.3->classiq) (2.8.2)\n",
      "Requirement already satisfied: pytz>=2020.1 in c:\\users\\alex\\miniconda3\\envs\\quantum\\lib\\site-packages (from pandas<3.0.0,>=1.4.0->classiq) (2024.1)\n",
      "Requirement already satisfied: tzdata>=2022.7 in c:\\users\\alex\\miniconda3\\envs\\quantum\\lib\\site-packages (from pandas<3.0.0,>=1.4.0->classiq) (2024.1)\n",
      "Requirement already satisfied: tenacity>=6.2.0 in c:\\users\\alex\\miniconda3\\envs\\quantum\\lib\\site-packages (from plotly<6.0.0,>=5.7.0->classiq) (8.2.3)\n",
      "Requirement already satisfied: typing-extensions>=4.2.0 in c:\\users\\alex\\miniconda3\\envs\\quantum\\lib\\site-packages (from pydantic<2.0.0,>=1.9.1->classiq) (4.9.0)\n",
      "Requirement already satisfied: ply in c:\\users\\alex\\miniconda3\\envs\\quantum\\lib\\site-packages (from Pyomo<6.6,>=6.5->classiq) (3.11)\n",
      "Requirement already satisfied: mpmath<1.4,>=1.1.0 in c:\\users\\alex\\miniconda3\\envs\\quantum\\lib\\site-packages (from sympy<2.0.0,>=1.13.0->classiq) (1.3.0)\n",
      "Requirement already satisfied: colorama in c:\\users\\alex\\miniconda3\\envs\\quantum\\lib\\site-packages (from click>=8.0.0->black<25.0,>=24.0->classiq) (0.4.6)\n",
      "Requirement already satisfied: zipp>=0.5 in c:\\users\\alex\\miniconda3\\envs\\quantum\\lib\\site-packages (from importlib-metadata>=4.11.4->keyring<24.0.0,>=23.5.0->classiq) (3.18.1)\n",
      "Requirement already satisfied: six>=1.5 in c:\\users\\alex\\miniconda3\\envs\\quantum\\lib\\site-packages (from python-dateutil>=2.7->matplotlib<4.0.0,>=3.4.3->classiq) (1.16.0)\n",
      "Requirement already satisfied: more-itertools in c:\\users\\alex\\miniconda3\\envs\\quantum\\lib\\site-packages (from jaraco.classes->keyring<24.0.0,>=23.5.0->classiq) (10.5.0)\n",
      "Downloading classiq-0.50.0-py3-none-any.whl (492 kB)\n",
      "Installing collected packages: classiq\n",
      "  Attempting uninstall: classiq\n",
      "    Found existing installation: classiq 0.46.0\n",
      "    Uninstalling classiq-0.46.0:\n",
      "      Successfully uninstalled classiq-0.46.0\n",
      "Successfully installed classiq-0.50.0\n"
     ]
    }
   ],
   "source": [
    "!pip install -U classiq"
   ]
  },
  {
   "cell_type": "markdown",
   "metadata": {},
   "source": [
    "### **Step 1: Preparing the Minus State**\n",
    "\n",
    "The first step in implementing phase kickback is to prepare the $|-\\rangle$ state. This state is crucial because it serves as the control qubit that will experience the phase kickback.\n",
    "\n",
    "**Mathematical Concept:**\n",
    "- The $|-\\rangle$ state is created by first applying the X (NOT) gate, which flips $|0\\rangle$ to $|1\\rangle$, and then applying the Hadamard gate to $|1\\rangle$:\n",
    "\n",
    "  $|-\\rangle = H \\cdot X \\cdot |0\\rangle = \\frac{1}{\\sqrt{2}} (|0\\rangle - |1\\rangle)$"
   ]
  },
  {
   "cell_type": "code",
   "execution_count": 2,
   "metadata": {},
   "outputs": [],
   "source": [
    "def prepare_minus(target: Output[QBit]):\n",
    "    allocate(out=target, num_qubits=1)\n",
    "\n",
    "\n",
    "    # Apply X gate to flip the qubit\n",
    "    # Apply Hadamard gate to create the |-> state\n",
    "\n",
    "    ### Your Answer ###\n",
    "    X(target)\n",
    "    H(target)\n",
    "\n",
    "    ###################"
   ]
  },
  {
   "cell_type": "markdown",
   "metadata": {},
   "source": [
    "### **Step 2: Defining the Oracle Function**\n",
    "\n",
    "The next step is to define an oracle function that will control the phase kickback. The oracle function checks if the input $ x $ equals a certain value (in this case, 1). If $ x = 1 $, the function will flip the phase of the target qubit, creating the desired phase kickback effect.\n",
    "\n",
    "#### **Mathematical Concept:**\n",
    "\n",
    "The oracle function is designed to perform the following transformation:\n",
    "\n",
    "$\n",
    "O_f(|x\\rangle|-\\rangle) = (-1)^{f(x)} |x\\rangle \\frac{1}{\\sqrt{2}} \\left( |0\\rangle - |1\\rangle \\right)\n",
    "$\n",
    "\n",
    "where $ f(x) $ is 1 if $ x = 1 $ and 0 otherwise.\n",
    "\n",
    "#### **Explanation:**\n",
    "\n",
    "- The oracle applies a phase flip (multiplies by -1) to the target qubit if $ x = 1 $.\n",
    "- When $ x = 1 $, the state of the target qubit $ |-\\rangle = \\frac{1}{\\sqrt{2}} \\left( |0\\rangle - |1\\rangle \\right) $ will acquire a phase flip, effectively changing the sign of the qubit’s state.\n"
   ]
  },
  {
   "cell_type": "code",
   "execution_count": 3,
   "metadata": {},
   "outputs": [],
   "source": [
    "@qfunc\n",
    "def oracle_function(target: QBit, x: QNum):\n",
    "\n",
    "    ### Your Answer ###\n",
    "    target ^= (x == 1)\n",
    "    ################### \n",
    "\n",
    "    # Hint: for XOR operation to flip *TARGET*'s phase if x == 0\n",
    "    # *TARGET* ^= x == 0  # "
   ]
  },
  {
   "cell_type": "markdown",
   "metadata": {},
   "source": [
    "### **Step 3: Combining the Building Blocks with Phase Kickback**\n",
    "\n",
    "Now, you will combine the `prepare_minus` function with the `oracle_function` to implement the phase kickback. This step will apply the phase kickback to the quantum state.\n",
    "\n",
    "**Mathematical Concept:**\n",
    "- The phase kickback is achieved by applying the oracle to the target state:\n",
    "  $\n",
    "  O_f(|x\\rangle|-\\rangle) = (-1)^{f(x)}|x\\rangle|-\\rangle\n",
    "  $"
   ]
  },
  {
   "cell_type": "code",
   "execution_count": 4,
   "metadata": {},
   "outputs": [],
   "source": [
    "@qfunc\n",
    "def oracle_phase_kickback(x: QNum):\n",
    "    target = QBit(\"target\")\n",
    "    within_apply(\n",
    "        within=lambda: prepare_minus(target), \n",
    "        apply=lambda: oracle_function(target, x)\n",
    "    )"
   ]
  },
  {
   "cell_type": "markdown",
   "metadata": {},
   "source": [
    "### **Step 4: Constructing the Main Quantum Circuit**\n",
    "\n",
    "Finally, you will construct the main quantum circuit. This circuit will initialize the qubits, apply the Hadamard transformation to create superpositions, and then apply the phase kickback to the system.\n",
    "\n",
    "**Mathematical Concept:**\n",
    "- Applying the Hadamard transformation to the input qubits:\n",
    "  $\n",
    "  H|x\\rangle = \\frac{1}{\\sqrt{2}}(|0\\rangle + |1\\rangle)\n",
    "  $\n",
    "- Followed by applying the phase kickback to each superposition state.\n"
   ]
  },
  {
   "cell_type": "code",
   "execution_count": 5,
   "metadata": {},
   "outputs": [],
   "source": [
    "@qfunc\n",
    "def main(x: Output[QNum]):\n",
    "    allocate(num_qubits=4, out=x)  # Allocate 4 qubits for the quantum register\n",
    "\n",
    "    # Apply Hadamard transformation to all qubits\n",
    "\n",
    "    ### Your Answer ###\n",
    "    hadamard_transform(x)\n",
    "    ################### \n",
    "\n",
    "    # Apply the phase kickback operation on x\n",
    "\n",
    "    ### Your Answer ###\n",
    "    oracle_phase_kickback(x)\n",
    "    ################### "
   ]
  },
  {
   "cell_type": "markdown",
   "metadata": {},
   "source": [
    "By completing these steps, you have successfully constructed a quantum circuit that leverages the phase kickback effect. This circuit can be used as a building block in more complex quantum algorithms like the Deutsch-Jozsa algorithm, where identifying phase shifts in superposition states is key to extracting meaningful information.\n",
    "\n",
    "Now, synthesize and run your quantum circuit to observe the phase kickback in action!"
   ]
  },
  {
   "cell_type": "code",
   "execution_count": 6,
   "metadata": {},
   "outputs": [],
   "source": [
    "qmod = create_model(main)\n",
    "qprog = synthesize(qmod)\n",
    "# show(qprog)"
   ]
  },
  {
   "cell_type": "markdown",
   "metadata": {},
   "source": [
    "#### Finally, Excute Your Programme"
   ]
  },
  {
   "cell_type": "code",
   "execution_count": 7,
   "metadata": {},
   "outputs": [
    {
     "name": "stdout",
     "output_type": "stream",
     "text": [
      "[{'x': 8.0}: 147, {'x': 10.0}: 139, {'x': 6.0}: 135, {'x': 14.0}: 134, {'x': 5.0}: 131, {'x': 1.0}: 131, {'x': 15.0}: 129, {'x': 4.0}: 129, {'x': 12.0}: 127, {'x': 2.0}: 126, {'x': 0.0}: 126, {'x': 3.0}: 124, {'x': 11.0}: 121, {'x': 7.0}: 120, {'x': 13.0}: 117, {'x': 9.0}: 112]\n"
     ]
    }
   ],
   "source": [
    "# This will run the quantum program and output the results directly in your Python environment.\n",
    "job = execute(qprog)\n",
    "results = job.result()[0].value.parsed_counts\n",
    "print(results)"
   ]
  },
  {
   "cell_type": "markdown",
   "metadata": {},
   "source": [
    "### Now save the QASM file for Grading!"
   ]
  },
  {
   "cell_type": "code",
   "execution_count": 8,
   "metadata": {},
   "outputs": [
    {
     "name": "stdout",
     "output_type": "stream",
     "text": [
      "QASM file saved at: qsite_challenge_2.qasm\n"
     ]
    }
   ],
   "source": [
    "qasm = QuantumProgram.from_qprog(qprog).qasm\n",
    "\n",
    "# Specify the file path where you want to save the QASM file\n",
    "file_path = \"qsite_challenge_2.qasm\"\n",
    "\n",
    "# Save the QASM string to a file\n",
    "with open(file_path, 'w') as file:\n",
    "    file.write(qasm)\n",
    "\n",
    "print(f\"QASM file saved at: {file_path}\")"
   ]
  },
  {
   "cell_type": "markdown",
   "metadata": {},
   "source": [
    "\n",
    "### **Save Your Quantum Model**\n",
    "\n",
    "🎉 Finally, save your quantum model for future use:"
   ]
  },
  {
   "cell_type": "code",
   "execution_count": 9,
   "metadata": {},
   "outputs": [],
   "source": [
    "write_qmod(create_model(main), \"qsite_challenge_2\")"
   ]
  },
  {
   "cell_type": "markdown",
   "metadata": {},
   "source": [
    "## Additional information\n",
    "\n",
    "#### Created by : Louis Chen\n",
    "\n",
    "#### Advised by : Tali Cohn, Eden Schirman  "
   ]
  },
  {
   "cell_type": "markdown",
   "metadata": {},
   "source": []
  }
 ],
 "metadata": {
  "kernelspec": {
   "display_name": "Python 3",
   "language": "python",
   "name": "python3"
  },
  "language_info": {
   "codemirror_mode": {
    "name": "ipython",
    "version": 3
   },
   "file_extension": ".py",
   "mimetype": "text/x-python",
   "name": "python",
   "nbconvert_exporter": "python",
   "pygments_lexer": "ipython3",
   "version": "3.11.4"
  }
 },
 "nbformat": 4,
 "nbformat_minor": 2
}
