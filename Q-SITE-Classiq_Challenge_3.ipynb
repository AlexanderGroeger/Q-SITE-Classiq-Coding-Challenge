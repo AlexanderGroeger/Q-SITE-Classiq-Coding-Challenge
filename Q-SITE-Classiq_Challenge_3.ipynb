{
 "cells": [
  {
   "cell_type": "markdown",
   "metadata": {},
   "source": [
    "# Q-SITE Classiq Coding Challenge - Lab 3"
   ]
  },
  {
   "cell_type": "markdown",
   "metadata": {},
   "source": [
    "### Thrid Challenge: Mastering Quantum Comparisons: The Swap Test Challenge with Classiq"
   ]
  },
  {
   "cell_type": "markdown",
   "metadata": {},
   "source": [
    "---\n",
    "### Objective:\n",
    "Welcome to the Swap Test Challenge! Your task is to implement the Swap Test algorithm, a fundamental quantum procedure for comparing quantum states. Using Classiq’s quantum programming framework, you will construct a quantum circuit that measures the overlap between two quantum states, allowing you to determine their similarity with high precision. Your goal is to understand and apply the principles of the Swap Test to extract meaningful results from quantum computations.\n",
    "\n",
    "---\n"
   ]
  },
  {
   "cell_type": "markdown",
   "metadata": {},
   "source": [
    "### **Swap Test Challenge**\n",
    "\n",
    "In this challenge, you will implement and explore the Swap Test algorithm using Classiq's quantum programming framework. The Swap Test is a quantum algorithm used to determine the overlap between two quantum states. This challenge will guide you through constructing a quantum circuit that uses the Swap Test to compare two random quantum states, measure their overlap, and validate the results.\n",
    "\n",
    "### **Understanding the Swap Test**\n",
    "\n",
    "The Swap Test is a quantum function that checks the overlap between two quantum states. The inputs of the function are two quantum registers of the same size, $|\\psi_1\\rangle$ and $|\\psi_2\\rangle$, and it returns as an output a single \"test\" qubit whose state encodes the overlap between the two inputs:\n",
    "\n",
    "$\n",
    "|q\\rangle_{test} = \\alpha |0\\rangle + \\sqrt{1 - \\alpha^2} |1\\rangle,\n",
    "$\n",
    "\n",
    "with\n",
    "\n",
    "$\n",
    "\\alpha^2 = \\frac{1}{2} \\left( 1 + |\\langle\\psi_1|\\psi_2\\rangle|^2 \\right).\n",
    "$\n",
    "\n",
    "Thus, the probability of measuring the test qubit in the state $|0\\rangle$ is 1 if the states are identical (up to a global phase) and 0.5 if the states are orthogonal to each other.\n",
    "\n",
    "The quantum model for the Swap Test starts with an H gate on the test qubit, followed by swapping between the two states controlled on the test qubit (a controlled-SWAP gate for each of the qubits in the two states), and a final H gate on the test qubit.\n"
   ]
  },
  {
   "cell_type": "markdown",
   "metadata": {},
   "source": [
    "### **Step 1: Prepare Two Random Quantum States**\n",
    "\n",
    "Your first task is to prepare two random quantum states with the same number of qubits. These states will be the inputs to the Swap Test.\n"
   ]
  },
  {
   "cell_type": "code",
<<<<<<< HEAD
   "execution_count": 16,
=======
   "execution_count": 2,
>>>>>>> 3f8c3ae9f46acd12b914e9c0a5c32c2a1203810a
   "metadata": {},
   "outputs": [],
   "source": [
    "import numpy as np\n",
    "\n",
    "# Seed for reproducibility\n",
    "np.random.seed(23)\n",
    "\n",
    "# Number of qubits\n",
    "NUM_QUBITS = 3\n",
    "\n",
    "# Generate random amplitudes for two quantum states\n",
    "amps1 = 1 - 2 * np.random.rand(2**NUM_QUBITS)  # Vector of 2^3 numbers in the range [-1,1]\n",
    "amps2 = 1 - 2 * np.random.rand(2**NUM_QUBITS)\n",
    "amps1 /= np.linalg.norm(amps1)  # Normalize the vector\n",
    "amps2 /= np.linalg.norm(amps2)\n"
   ]
  },
  {
   "cell_type": "markdown",
   "metadata": {},
   "source": [
    "### **Step 2: Implement the Swap Test**\n",
    "\n",
    "Next, you will implement the Swap Test algorithm. This involves preparing the quantum states, applying the Swap Test, and synthesizing the quantum circuit.\n"
   ]
  },
  {
   "cell_type": "code",
<<<<<<< HEAD
   "execution_count": 23,
=======
   "execution_count": 13,
>>>>>>> 3f8c3ae9f46acd12b914e9c0a5c32c2a1203810a
   "metadata": {},
   "outputs": [],
   "source": [
    "from classiq import *\n",
    "from classiq.execution import ExecutionPreferences\n",
    "\n",
    "@qfunc\n",
    "def main(test: Output[QBit]):\n",
    "    state1 = QArray(\"state1\")\n",
    "    state2 = QArray(\"state2\")\n",
    "    \n",
    "    # Task 1: Prepare amplitudes for the first quantum state\n",
    "    # Hint: Use the prepare_amplitudes function with amps1\n",
    "    # https://docs.classiq.io/latest/explore/tutorials/getting_started/part2_state_preparation/\n",
    "    ########################################\n",
    "    # Your code here to prepare state1 with amps1\n",
<<<<<<< HEAD
    "    prepare_amplitudes(amplitudes=CArray(str([CReal(str(x)) for x in amps1])), out=state1, bound=0.01)\n",
=======
    "    prepare_amplitudes(amplitudes=amps1, out=state1)\n",
>>>>>>> 3f8c3ae9f46acd12b914e9c0a5c32c2a1203810a
    "    ########################################\n",
    "    \n",
    "    # Task 2: Prepare amplitudes for the second quantum state\n",
    "    # Hint: Use the prepare_amplitudes function with amps2\n",
    "    ########################################\n",
    "    # Your code here to prepare state2 with amps2\n",
<<<<<<< HEAD
    "    prepare_amplitudes(amplitudes=CArray(str([CReal(str(x)) for x in amps2])), out=state2, bound=0.01)\n",
=======
    "    prepare_amplitudes(amplitudes=amps2, out=state2)\n",
>>>>>>> 3f8c3ae9f46acd12b914e9c0a5c32c2a1203810a
    "    ########################################\n",
    "    \n",
    "    # Task 3: Apply the Swap Test to compare state1 and state2\n",
    "    ########################################\n",
    "    # Your code here to apply the swap_test function by\n",
    "    # swap_test(state1: qbit[], state2: qbit[], output test: qbit)\n",
    "    # https://github.com/Classiq/classiq-library/blob/main/functions/open_library_definitions/swap_test.qmod\n",
    "    swap_test(state1, state2, test)\n",
    "    ########################################"
   ]
  },
  {
   "cell_type": "code",
   "execution_count": 10,
   "metadata": {},
   "outputs": [
    {
     "name": "stdout",
     "output_type": "stream",
     "text": [
      "\u001b[1;31mSignature:\u001b[0m      \n",
      "\u001b[0mprepare_amplitudes\u001b[0m\u001b[1;33m(\u001b[0m\u001b[1;33m\n",
      "\u001b[0m    \u001b[0mamplitudes\u001b[0m\u001b[1;33m:\u001b[0m \u001b[0mclassiq\u001b[0m\u001b[1;33m.\u001b[0m\u001b[0mqmod\u001b[0m\u001b[1;33m.\u001b[0m\u001b[0mcparam\u001b[0m\u001b[1;33m.\u001b[0m\u001b[0mCArray\u001b[0m\u001b[1;33m[\u001b[0m\u001b[1;33m(\u001b[0m\u001b[1;33m<\u001b[0m\u001b[1;32mclass\u001b[0m \u001b[1;34m'classiq.qmod.cparam.CReal'\u001b[0m\u001b[1;33m>\u001b[0m\u001b[1;33m,\u001b[0m\u001b[1;33m)\u001b[0m\u001b[1;33m]\u001b[0m\u001b[1;33m,\u001b[0m\u001b[1;33m\n",
      "\u001b[0m    \u001b[0mbound\u001b[0m\u001b[1;33m:\u001b[0m \u001b[0mclassiq\u001b[0m\u001b[1;33m.\u001b[0m\u001b[0mqmod\u001b[0m\u001b[1;33m.\u001b[0m\u001b[0mcparam\u001b[0m\u001b[1;33m.\u001b[0m\u001b[0mCReal\u001b[0m\u001b[1;33m,\u001b[0m\u001b[1;33m\n",
      "\u001b[0m    \u001b[0mout\u001b[0m\u001b[1;33m:\u001b[0m \u001b[0mtyping\u001b[0m\u001b[1;33m.\u001b[0m\u001b[0mAnnotated\u001b[0m\u001b[1;33m[\u001b[0m\u001b[0mclassiq\u001b[0m\u001b[1;33m.\u001b[0m\u001b[0mqmod\u001b[0m\u001b[1;33m.\u001b[0m\u001b[0mqmod_variable\u001b[0m\u001b[1;33m.\u001b[0m\u001b[0mQArray\u001b[0m\u001b[1;33m[\u001b[0m\u001b[1;33m(\u001b[0m\u001b[1;33m<\u001b[0m\u001b[1;32mclass\u001b[0m \u001b[1;34m'classiq.qmod.qmod_variable.QBit'\u001b[0m\u001b[1;33m>\u001b[0m\u001b[1;33m,\u001b[0m \u001b[0mtyping\u001b[0m\u001b[1;33m.\u001b[0m\u001b[0mLiteral\u001b[0m\u001b[1;33m[\u001b[0m\u001b[1;34m\"log(get_field(amplitudes, 'len'), 2)\"\u001b[0m\u001b[1;33m]\u001b[0m\u001b[1;33m)\u001b[0m\u001b[1;33m]\u001b[0m\u001b[1;33m,\u001b[0m \u001b[1;33m<\u001b[0m\u001b[0mPortDeclarationDirection\u001b[0m\u001b[1;33m.\u001b[0m\u001b[0mOutput\u001b[0m\u001b[1;33m:\u001b[0m \u001b[1;34m'output'\u001b[0m\u001b[1;33m>\u001b[0m\u001b[1;33m]\u001b[0m\u001b[1;33m,\u001b[0m\u001b[1;33m\n",
      "\u001b[0m\u001b[1;33m)\u001b[0m\u001b[1;33m\u001b[0m\u001b[1;33m\u001b[0m\u001b[0m\n",
      "\u001b[1;31mCall signature:\u001b[0m  \u001b[0mprepare_amplitudes\u001b[0m\u001b[1;33m(\u001b[0m\u001b[1;33m*\u001b[0m\u001b[0margs\u001b[0m\u001b[1;33m:\u001b[0m \u001b[0mAny\u001b[0m\u001b[1;33m,\u001b[0m \u001b[1;33m**\u001b[0m\u001b[0mkwargs\u001b[0m\u001b[1;33m:\u001b[0m \u001b[0mAny\u001b[0m\u001b[1;33m)\u001b[0m \u001b[1;33m->\u001b[0m \u001b[1;32mNone\u001b[0m\u001b[1;33m\u001b[0m\u001b[1;33m\u001b[0m\u001b[0m\n",
      "\u001b[1;31mType:\u001b[0m            ExternalQFunc\n",
      "\u001b[1;31mString form:\u001b[0m     <classiq.qmod.quantum_function.ExternalQFunc object at 0x00000221BB2C6610>\n",
      "\u001b[1;31mFile:\u001b[0m            c:\\users\\alex\\miniconda3\\envs\\quantum\\lib\\site-packages\\classiq\\qmod\\builtins\\functions\\state_preparation.py\n",
      "\u001b[1;31mDocstring:\u001b[0m      \n",
      "[Qmod core-library function]\n",
      "\n",
      "Initializes a quantum variable in a state corresponding to the given amplitudes:\n",
      "\n",
      "$$\n",
      "    \\left|\\text{out}\\right\\rangle = \\sum_{i=0}^{\\text{len(amplitudes)}-1} \\text{amplitudes}[i] \\left|i\\right\\rangle\n",
      "$$\n",
      "\n",
      "with $i = 0, 1, 2, ..., \\text{len(amplitudes)}-1$ corresponding to computational basis states.\n",
      "\n",
      "Args:\n",
      "    amplitudes: The amplitudes to initialize the quantum variable. Must be a valid real quantum state vector, i.e., the sum of squares should be 1. Must have a valid length (a power of 2).\n",
      "    bound: An error bound, expressed as the $L^{2}$ norm between the expected and actual distributions. A larger bound can reduce the circuit size at the expense of accuracy. Must be a positive real number.\n",
      "    out: The quantum variable that will receive the initialized state. Must be uninitialized. For more information on quantum variable initialization, see [here](https://docs.classiq.io/latest/reference-manual/qmod/language-reference/quantum-variables/).\n",
      "\n",
      "Notes:\n",
      "    1. If the output variable has been declared with a specific number of qubits, the number of qubits formed by the distribution must match the declared number.\n",
      "    2. The synthesis engine automatically handles the allocation, either by drawing new qubits from the available pool or by reusing existing ones.\n",
      "\u001b[1;31mClass docstring:\u001b[0m\n",
      "Abstract base class for generic types.\n",
      "\n",
      "A generic type is typically declared by inheriting from\n",
      "this class parameterized with one or more type variables.\n",
      "For example, a generic mapping type might be defined as::\n",
      "\n",
      "  class Mapping(Generic[KT, VT]):\n",
      "      def __getitem__(self, key: KT) -> VT:\n",
      "          ...\n",
      "      # Etc.\n",
      "\n",
      "This class can then be used as follows::\n",
      "\n",
      "  def lookup_name(mapping: Mapping[KT, VT], key: KT, default: VT) -> VT:\n",
      "      try:\n",
      "          return mapping[key]\n",
      "      except KeyError:\n",
      "          return default"
     ]
    }
   ],
   "source": [
    "prepare_amplitudes"
   ]
  },
  {
   "cell_type": "markdown",
   "metadata": {},
   "source": [
    "### **Step 3: Synthesize and Visualize the Circuit**\n",
    "\n",
    "After constructing the circuit, synthesize and visualize it to ensure the Swap Test has been implemented correctly.\n"
   ]
  },
  {
   "cell_type": "code",
<<<<<<< HEAD
   "execution_count": 24,
   "metadata": {},
   "outputs": [],
=======
   "execution_count": 12,
   "metadata": {},
   "outputs": [
    {
     "ename": "TypeError",
     "evalue": "__str__ returned non-string (type numpy.ndarray)",
     "output_type": "error",
     "traceback": [
      "\u001b[1;31m---------------------------------------------------------------------------\u001b[0m",
      "\u001b[1;31mTypeError\u001b[0m                                 Traceback (most recent call last)",
      "Cell \u001b[1;32mIn[12], line 3\u001b[0m\n\u001b[0;32m      1\u001b[0m \u001b[38;5;66;03m# Task 4: Create the quantum model and synthesize the circuit\u001b[39;00m\n\u001b[1;32m----> 3\u001b[0m qmod \u001b[38;5;241m=\u001b[39m \u001b[43mcreate_model\u001b[49m\u001b[43m(\u001b[49m\u001b[43mmain\u001b[49m\u001b[43m)\u001b[49m\n\u001b[0;32m      5\u001b[0m \u001b[38;5;66;03m### In classiq, we can use this function to set execution preferences:\u001b[39;00m\n\u001b[0;32m      6\u001b[0m qmod \u001b[38;5;241m=\u001b[39m set_execution_preferences(\n\u001b[0;32m      7\u001b[0m     qmod, execution_preferences\u001b[38;5;241m=\u001b[39mExecutionPreferences(num_shots\u001b[38;5;241m=\u001b[39m\u001b[38;5;241m100_000\u001b[39m)\n\u001b[0;32m      8\u001b[0m )\n",
      "File \u001b[1;32mc:\\Users\\alex\\miniconda3\\envs\\quantum\\Lib\\site-packages\\classiq\\qmod\\create_model_function.py:78\u001b[0m, in \u001b[0;36mcreate_model\u001b[1;34m(entry_point, constraints, execution_preferences, preferences, classical_execution_function, out_file)\u001b[0m\n\u001b[0;32m     76\u001b[0m     \u001b[38;5;28;01mif\u001b[39;00m TYPE_CHECKING:\n\u001b[0;32m     77\u001b[0m         \u001b[38;5;28;01massert\u001b[39;00m \u001b[38;5;28misinstance\u001b[39m(entry_point, QFunc)\n\u001b[1;32m---> 78\u001b[0m     model \u001b[38;5;241m=\u001b[39m \u001b[43mentry_point\u001b[49m\u001b[38;5;241;43m.\u001b[39;49m\u001b[43mcreate_model\u001b[49m\u001b[43m(\u001b[49m\n\u001b[0;32m     79\u001b[0m \u001b[43m        \u001b[49m\u001b[43mconstraints\u001b[49m\u001b[43m,\u001b[49m\n\u001b[0;32m     80\u001b[0m \u001b[43m        \u001b[49m\u001b[43mexecution_preferences\u001b[49m\u001b[43m,\u001b[49m\n\u001b[0;32m     81\u001b[0m \u001b[43m        \u001b[49m\u001b[43mpreferences\u001b[49m\u001b[43m,\u001b[49m\n\u001b[0;32m     82\u001b[0m \u001b[43m        \u001b[49m\u001b[43mclassical_execution_function\u001b[49m\u001b[43m,\u001b[49m\n\u001b[0;32m     83\u001b[0m \u001b[43m    \u001b[49m\u001b[43m)\u001b[49m\n\u001b[0;32m     84\u001b[0m result \u001b[38;5;241m=\u001b[39m model\u001b[38;5;241m.\u001b[39mget_model()\n\u001b[0;32m     86\u001b[0m \u001b[38;5;28;01mif\u001b[39;00m out_file \u001b[38;5;129;01mis\u001b[39;00m \u001b[38;5;129;01mnot\u001b[39;00m \u001b[38;5;28;01mNone\u001b[39;00m:\n",
      "File \u001b[1;32mc:\\Users\\alex\\miniconda3\\envs\\quantum\\Lib\\site-packages\\classiq\\qmod\\quantum_function.py:60\u001b[0m, in \u001b[0;36mQFunc.create_model\u001b[1;34m(self, constraints, execution_preferences, preferences, classical_execution_function)\u001b[0m\n\u001b[0;32m     58\u001b[0m \u001b[38;5;28mself\u001b[39m\u001b[38;5;241m.\u001b[39m_qmodule\u001b[38;5;241m.\u001b[39mconstants \u001b[38;5;241m=\u001b[39m \u001b[38;5;28mdict\u001b[39m()\n\u001b[0;32m     59\u001b[0m QConstant\u001b[38;5;241m.\u001b[39mset_current_model(\u001b[38;5;28mself\u001b[39m\u001b[38;5;241m.\u001b[39m_qmodule)\n\u001b[1;32m---> 60\u001b[0m \u001b[38;5;28;43mself\u001b[39;49m\u001b[38;5;241;43m.\u001b[39;49m\u001b[43mexpand\u001b[49m\u001b[43m(\u001b[49m\u001b[43m)\u001b[49m\n\u001b[0;32m     61\u001b[0m model_extra_settings: List[Tuple[\u001b[38;5;28mstr\u001b[39m, Any]] \u001b[38;5;241m=\u001b[39m [\n\u001b[0;32m     62\u001b[0m     (\u001b[38;5;124m\"\u001b[39m\u001b[38;5;124mconstraints\u001b[39m\u001b[38;5;124m\"\u001b[39m, constraints),\n\u001b[0;32m     63\u001b[0m     (\u001b[38;5;124m\"\u001b[39m\u001b[38;5;124mexecution_preferences\u001b[39m\u001b[38;5;124m\"\u001b[39m, execution_preferences),\n\u001b[0;32m     64\u001b[0m     (\u001b[38;5;124m\"\u001b[39m\u001b[38;5;124mpreferences\u001b[39m\u001b[38;5;124m\"\u001b[39m, preferences),\n\u001b[0;32m     65\u001b[0m ]\n\u001b[0;32m     66\u001b[0m \u001b[38;5;28;01mif\u001b[39;00m classical_execution_function \u001b[38;5;129;01mis\u001b[39;00m \u001b[38;5;129;01mnot\u001b[39;00m \u001b[38;5;28;01mNone\u001b[39;00m:\n",
      "File \u001b[1;32mc:\\Users\\alex\\miniconda3\\envs\\quantum\\Lib\\site-packages\\classiq\\qmod\\quantum_function.py:83\u001b[0m, in \u001b[0;36mQFunc.expand\u001b[1;34m(self)\u001b[0m\n\u001b[0;32m     81\u001b[0m \u001b[38;5;28;01mif\u001b[39;00m \u001b[38;5;28mself\u001b[39m\u001b[38;5;241m.\u001b[39mfunc_decl\u001b[38;5;241m.\u001b[39mname \u001b[38;5;129;01min\u001b[39;00m \u001b[38;5;28mself\u001b[39m\u001b[38;5;241m.\u001b[39m_qmodule\u001b[38;5;241m.\u001b[39mnative_defs:\n\u001b[0;32m     82\u001b[0m     \u001b[38;5;28;01mreturn\u001b[39;00m\n\u001b[1;32m---> 83\u001b[0m \u001b[38;5;28;43msuper\u001b[39;49m\u001b[43m(\u001b[49m\u001b[43m)\u001b[49m\u001b[38;5;241;43m.\u001b[39;49m\u001b[43mexpand\u001b[49m\u001b[43m(\u001b[49m\u001b[43m)\u001b[49m\n\u001b[0;32m     84\u001b[0m \u001b[38;5;28mself\u001b[39m\u001b[38;5;241m.\u001b[39m_qmodule\u001b[38;5;241m.\u001b[39mnative_defs[\u001b[38;5;28mself\u001b[39m\u001b[38;5;241m.\u001b[39mfunc_decl\u001b[38;5;241m.\u001b[39mname] \u001b[38;5;241m=\u001b[39m NativeFunctionDefinition(\n\u001b[0;32m     85\u001b[0m     \u001b[38;5;241m*\u001b[39m\u001b[38;5;241m*\u001b[39m{\u001b[38;5;241m*\u001b[39m\u001b[38;5;241m*\u001b[39m\u001b[38;5;28mself\u001b[39m\u001b[38;5;241m.\u001b[39mfunc_decl\u001b[38;5;241m.\u001b[39mdict(), \u001b[38;5;241m*\u001b[39m\u001b[38;5;241m*\u001b[39m{\u001b[38;5;124m\"\u001b[39m\u001b[38;5;124mbody\u001b[39m\u001b[38;5;124m\"\u001b[39m: \u001b[38;5;28mself\u001b[39m\u001b[38;5;241m.\u001b[39mbody}}\n\u001b[0;32m     86\u001b[0m )\n",
      "File \u001b[1;32mc:\\Users\\alex\\miniconda3\\envs\\quantum\\Lib\\site-packages\\classiq\\qmod\\quantum_expandable.py:103\u001b[0m, in \u001b[0;36mQExpandable.expand\u001b[1;34m(self)\u001b[0m\n\u001b[0;32m    101\u001b[0m \u001b[38;5;28;01mif\u001b[39;00m \u001b[38;5;28mself\u001b[39m \u001b[38;5;129;01mnot\u001b[39;00m \u001b[38;5;129;01min\u001b[39;00m QExpandable\u001b[38;5;241m.\u001b[39mSTACK:\n\u001b[0;32m    102\u001b[0m     \u001b[38;5;28;01mwith\u001b[39;00m \u001b[38;5;28mself\u001b[39m, generative_mode_context(\u001b[38;5;28;01mFalse\u001b[39;00m):\n\u001b[1;32m--> 103\u001b[0m         \u001b[38;5;28;43mself\u001b[39;49m\u001b[38;5;241;43m.\u001b[39;49m\u001b[43m_py_callable\u001b[49m\u001b[43m(\u001b[49m\u001b[38;5;241;43m*\u001b[39;49m\u001b[38;5;28;43mself\u001b[39;49m\u001b[38;5;241;43m.\u001b[39;49m\u001b[43m_get_positional_args\u001b[49m\u001b[43m(\u001b[49m\u001b[43m)\u001b[49m\u001b[43m)\u001b[49m\n",
      "Cell \u001b[1;32mIn[11], line 14\u001b[0m, in \u001b[0;36mmain\u001b[1;34m(test)\u001b[0m\n\u001b[0;32m      7\u001b[0m state2 \u001b[38;5;241m=\u001b[39m QArray(\u001b[38;5;124m\"\u001b[39m\u001b[38;5;124mstate2\u001b[39m\u001b[38;5;124m\"\u001b[39m)\n\u001b[0;32m      9\u001b[0m \u001b[38;5;66;03m# Task 1: Prepare amplitudes for the first quantum state\u001b[39;00m\n\u001b[0;32m     10\u001b[0m \u001b[38;5;66;03m# Hint: Use the prepare_amplitudes function with amps1\u001b[39;00m\n\u001b[0;32m     11\u001b[0m \u001b[38;5;66;03m# https://docs.classiq.io/latest/explore/tutorials/getting_started/part2_state_preparation/\u001b[39;00m\n\u001b[0;32m     12\u001b[0m \u001b[38;5;66;03m########################################\u001b[39;00m\n\u001b[0;32m     13\u001b[0m \u001b[38;5;66;03m# Your code here to prepare state1 with amps1\u001b[39;00m\n\u001b[1;32m---> 14\u001b[0m \u001b[43mprepare_amplitudes\u001b[49m\u001b[43m(\u001b[49m\u001b[43mamplitudes\u001b[49m\u001b[38;5;241;43m=\u001b[39;49m\u001b[43mCArray\u001b[49m\u001b[43m(\u001b[49m\u001b[43mamps1\u001b[49m\u001b[43m)\u001b[49m\u001b[43m,\u001b[49m\u001b[43m \u001b[49m\u001b[43mout\u001b[49m\u001b[38;5;241;43m=\u001b[39;49m\u001b[43mstate1\u001b[49m\u001b[43m)\u001b[49m\n\u001b[0;32m     15\u001b[0m \u001b[38;5;66;03m########################################\u001b[39;00m\n\u001b[0;32m     16\u001b[0m \n\u001b[0;32m     17\u001b[0m \u001b[38;5;66;03m# Task 2: Prepare amplitudes for the second quantum state\u001b[39;00m\n\u001b[0;32m     18\u001b[0m \u001b[38;5;66;03m# Hint: Use the prepare_amplitudes function with amps2\u001b[39;00m\n\u001b[0;32m     19\u001b[0m \u001b[38;5;66;03m########################################\u001b[39;00m\n\u001b[0;32m     20\u001b[0m \u001b[38;5;66;03m# Your code here to prepare state2 with amps2\u001b[39;00m\n\u001b[0;32m     21\u001b[0m prepare_amplitudes(amplitudes\u001b[38;5;241m=\u001b[39mamps2, out\u001b[38;5;241m=\u001b[39mstate2)\n",
      "File \u001b[1;32mc:\\Users\\alex\\miniconda3\\envs\\quantum\\Lib\\site-packages\\classiq\\qmod\\quantum_callable.py:55\u001b[0m, in \u001b[0;36mQCallable.__call__\u001b[1;34m(self, *args, **kwargs)\u001b[0m\n\u001b[0;32m     52\u001b[0m \u001b[38;5;28;01massert\u001b[39;00m QCallable\u001b[38;5;241m.\u001b[39mCURRENT_EXPANDABLE \u001b[38;5;129;01mis\u001b[39;00m \u001b[38;5;129;01mnot\u001b[39;00m \u001b[38;5;28;01mNone\u001b[39;00m\n\u001b[0;32m     53\u001b[0m source_ref \u001b[38;5;241m=\u001b[39m get_source_ref(sys\u001b[38;5;241m.\u001b[39m_getframe(\u001b[38;5;28mself\u001b[39m\u001b[38;5;241m.\u001b[39mFRAME_DEPTH))\n\u001b[0;32m     54\u001b[0m QCallable\u001b[38;5;241m.\u001b[39mCURRENT_EXPANDABLE\u001b[38;5;241m.\u001b[39mappend_statement_to_body(\n\u001b[1;32m---> 55\u001b[0m     \u001b[38;5;28;43mself\u001b[39;49m\u001b[38;5;241;43m.\u001b[39;49m\u001b[43mcreate_quantum_function_call\u001b[49m\u001b[43m(\u001b[49m\u001b[43msource_ref\u001b[49m\u001b[43m,\u001b[49m\u001b[43m \u001b[49m\u001b[38;5;241;43m*\u001b[39;49m\u001b[43margs\u001b[49m\u001b[43m,\u001b[49m\u001b[43m \u001b[49m\u001b[38;5;241;43m*\u001b[39;49m\u001b[38;5;241;43m*\u001b[39;49m\u001b[43mkwargs\u001b[49m\u001b[43m)\u001b[49m\n\u001b[0;32m     56\u001b[0m )\n\u001b[0;32m     57\u001b[0m \u001b[38;5;28;01mreturn\u001b[39;00m\n",
      "File \u001b[1;32mc:\\Users\\alex\\miniconda3\\envs\\quantum\\Lib\\site-packages\\classiq\\qmod\\quantum_expandable.py:265\u001b[0m, in \u001b[0;36mQTerminalCallable.create_quantum_function_call\u001b[1;34m(self, source_ref_, *args, **kwargs)\u001b[0m\n\u001b[0;32m    261\u001b[0m \u001b[38;5;28;01mif\u001b[39;00m \u001b[38;5;28mself\u001b[39m\u001b[38;5;241m.\u001b[39mis_list \u001b[38;5;129;01mand\u001b[39;00m \u001b[38;5;28mself\u001b[39m\u001b[38;5;241m.\u001b[39m_index \u001b[38;5;129;01mis\u001b[39;00m \u001b[38;5;28;01mNone\u001b[39;00m:\n\u001b[0;32m    262\u001b[0m     \u001b[38;5;28;01mraise\u001b[39;00m ClassiqValueError(\n\u001b[0;32m    263\u001b[0m         \u001b[38;5;124mf\u001b[39m\u001b[38;5;124m\"\u001b[39m\u001b[38;5;124mQuantum operand \u001b[39m\u001b[38;5;132;01m{\u001b[39;00m\u001b[38;5;28mself\u001b[39m\u001b[38;5;241m.\u001b[39mfunc_decl\u001b[38;5;241m.\u001b[39mname\u001b[38;5;132;01m!r}\u001b[39;00m\u001b[38;5;124m is a list and must be indexed\u001b[39m\u001b[38;5;124m\"\u001b[39m\n\u001b[0;32m    264\u001b[0m     )\n\u001b[1;32m--> 265\u001b[0m \u001b[38;5;28;01mreturn\u001b[39;00m \u001b[43m_create_quantum_function_call\u001b[49m\u001b[43m(\u001b[49m\n\u001b[0;32m    266\u001b[0m \u001b[43m    \u001b[49m\u001b[38;5;28;43mself\u001b[39;49m\u001b[38;5;241;43m.\u001b[39;49m\u001b[43mfunc_decl\u001b[49m\u001b[43m,\u001b[49m\u001b[43m \u001b[49m\u001b[38;5;28;43mself\u001b[39;49m\u001b[38;5;241;43m.\u001b[39;49m\u001b[43m_index\u001b[49m\u001b[43m,\u001b[49m\u001b[43m \u001b[49m\u001b[43msource_ref_\u001b[49m\u001b[43m,\u001b[49m\u001b[43m \u001b[49m\u001b[38;5;241;43m*\u001b[39;49m\u001b[43margs\u001b[49m\u001b[43m,\u001b[49m\u001b[43m \u001b[49m\u001b[38;5;241;43m*\u001b[39;49m\u001b[38;5;241;43m*\u001b[39;49m\u001b[43mkwargs\u001b[49m\n\u001b[0;32m    267\u001b[0m \u001b[43m\u001b[49m\u001b[43m)\u001b[49m\n",
      "File \u001b[1;32mc:\\Users\\alex\\miniconda3\\envs\\quantum\\Lib\\site-packages\\classiq\\qmod\\quantum_expandable.py:413\u001b[0m, in \u001b[0;36m_create_quantum_function_call\u001b[1;34m(decl_, index_, source_ref_, *args, **kwargs)\u001b[0m\n\u001b[0;32m    411\u001b[0m arg_decls \u001b[38;5;241m=\u001b[39m decl_\u001b[38;5;241m.\u001b[39mpositional_arg_declarations\n\u001b[0;32m    412\u001b[0m arg_list \u001b[38;5;241m=\u001b[39m \u001b[38;5;28mlist\u001b[39m(args)\n\u001b[1;32m--> 413\u001b[0m prepared_args \u001b[38;5;241m=\u001b[39m \u001b[43m_prepare_args\u001b[49m\u001b[43m(\u001b[49m\u001b[43mdecl_\u001b[49m\u001b[43m,\u001b[49m\u001b[43m \u001b[49m\u001b[43marg_list\u001b[49m\u001b[43m,\u001b[49m\u001b[43m \u001b[49m\u001b[43mkwargs\u001b[49m\u001b[43m)\u001b[49m\n\u001b[0;32m    415\u001b[0m \u001b[38;5;28;01mif\u001b[39;00m kwargs:\n\u001b[0;32m    416\u001b[0m     bad_kwarg \u001b[38;5;241m=\u001b[39m \u001b[38;5;28mnext\u001b[39m(\u001b[38;5;28miter\u001b[39m(kwargs))\n",
      "File \u001b[1;32mc:\\Users\\alex\\miniconda3\\envs\\quantum\\Lib\\site-packages\\classiq\\qmod\\quantum_expandable.py:399\u001b[0m, in \u001b[0;36m_prepare_args\u001b[1;34m(decl, arg_list, kwargs)\u001b[0m\n\u001b[0;32m    397\u001b[0m         \u001b[38;5;28;01mraise\u001b[39;00m ClassiqValueError(error_message)\n\u001b[0;32m    398\u001b[0m     param_name \u001b[38;5;241m=\u001b[39m arg_decl\u001b[38;5;241m.\u001b[39mname \u001b[38;5;28;01mif\u001b[39;00m arg_decl\u001b[38;5;241m.\u001b[39mname \u001b[38;5;129;01mis\u001b[39;00m \u001b[38;5;129;01mnot\u001b[39;00m \u001b[38;5;28;01mNone\u001b[39;00m \u001b[38;5;28;01melse\u001b[39;00m \u001b[38;5;124mf\u001b[39m\u001b[38;5;124m\"\u001b[39m\u001b[38;5;124m#\u001b[39m\u001b[38;5;132;01m{\u001b[39;00midx\u001b[38;5;250m \u001b[39m\u001b[38;5;241m+\u001b[39m\u001b[38;5;250m \u001b[39m\u001b[38;5;241m1\u001b[39m\u001b[38;5;132;01m}\u001b[39;00m\u001b[38;5;124m\"\u001b[39m\n\u001b[1;32m--> 399\u001b[0m     result\u001b[38;5;241m.\u001b[39mappend(\u001b[43mprepare_arg\u001b[49m\u001b[43m(\u001b[49m\u001b[43marg_decl\u001b[49m\u001b[43m,\u001b[49m\u001b[43m \u001b[49m\u001b[43marg\u001b[49m\u001b[43m,\u001b[49m\u001b[43m \u001b[49m\u001b[43mdecl\u001b[49m\u001b[38;5;241;43m.\u001b[39;49m\u001b[43mname\u001b[49m\u001b[43m,\u001b[49m\u001b[43m \u001b[49m\u001b[43mparam_name\u001b[49m\u001b[43m)\u001b[49m)\n\u001b[0;32m    401\u001b[0m \u001b[38;5;28;01mreturn\u001b[39;00m result\n",
      "File \u001b[1;32mc:\\Users\\alex\\miniconda3\\envs\\quantum\\Lib\\site-packages\\classiq\\qmod\\quantum_expandable.py:293\u001b[0m, in \u001b[0;36mprepare_arg\u001b[1;34m(arg_decl, val, func_name, param_name)\u001b[0m\n\u001b[0;32m    291\u001b[0m \u001b[38;5;28;01mif\u001b[39;00m \u001b[38;5;28misinstance\u001b[39m(arg_decl, AnonClassicalParameterDeclaration):\n\u001b[0;32m    292\u001b[0m     _validate_classical_arg(val, arg_decl, func_name)\n\u001b[1;32m--> 293\u001b[0m     \u001b[38;5;28;01mreturn\u001b[39;00m Expression(expr\u001b[38;5;241m=\u001b[39m\u001b[43mqmod_val_to_expr_str\u001b[49m\u001b[43m(\u001b[49m\u001b[43mval\u001b[49m\u001b[43m)\u001b[49m)\n\u001b[0;32m    294\u001b[0m \u001b[38;5;28;01melif\u001b[39;00m \u001b[38;5;28misinstance\u001b[39m(arg_decl, AnonPortDeclaration):\n\u001b[0;32m    295\u001b[0m     \u001b[38;5;28;01mif\u001b[39;00m \u001b[38;5;129;01mnot\u001b[39;00m \u001b[38;5;28misinstance\u001b[39m(val, QVar):\n",
      "File \u001b[1;32mc:\\Users\\alex\\miniconda3\\envs\\quantum\\Lib\\site-packages\\classiq\\qmod\\utilities.py:99\u001b[0m, in \u001b[0;36mqmod_val_to_expr_str\u001b[1;34m(val)\u001b[0m\n\u001b[0;32m     96\u001b[0m \u001b[38;5;28;01mif\u001b[39;00m \u001b[38;5;28misinstance\u001b[39m(val, PythonEnum):\n\u001b[0;32m     97\u001b[0m     \u001b[38;5;28;01mreturn\u001b[39;00m \u001b[38;5;124mf\u001b[39m\u001b[38;5;124m\"\u001b[39m\u001b[38;5;132;01m{\u001b[39;00m\u001b[38;5;28mtype\u001b[39m(val)\u001b[38;5;241m.\u001b[39m\u001b[38;5;18m__name__\u001b[39m\u001b[38;5;132;01m}\u001b[39;00m\u001b[38;5;124m.\u001b[39m\u001b[38;5;132;01m{\u001b[39;00mval\u001b[38;5;241m.\u001b[39mname\u001b[38;5;132;01m}\u001b[39;00m\u001b[38;5;124m\"\u001b[39m\n\u001b[1;32m---> 99\u001b[0m \u001b[38;5;28;01mreturn\u001b[39;00m \u001b[38;5;28mstr\u001b[39m(val)\n",
      "\u001b[1;31mTypeError\u001b[0m: __str__ returned non-string (type numpy.ndarray)"
     ]
    }
   ],
>>>>>>> 3f8c3ae9f46acd12b914e9c0a5c32c2a1203810a
   "source": [
    "# Task 4: Create the quantum model and synthesize the circuit\n",
    "\n",
    "qmod = create_model(main)\n",
    "\n",
    "### In classiq, we can use this function to set execution preferences:\n",
    "qmod = set_execution_preferences(\n",
    "    qmod, execution_preferences=ExecutionPreferences(num_shots=100_000)\n",
    ")\n",
    "\n",
    "qprog = synthesize(qmod)\n",
    "\n",
    "show(qprog)"
   ]
  },
  {
   "cell_type": "markdown",
   "metadata": {},
   "source": []
  },
  {
   "cell_type": "markdown",
   "metadata": {},
   "source": [
    "### **Step 4: Execute the Circuit and Verify Results**\n",
    "Finally, execute the circuit to measure the overlap between the two quantum states. Then, compare the result from the Swap Test with the exact overlap computed classically.\n",
    "\n",
    "Using the expected probability of measuring the state $|0\\rangle$ as defined above:\n",
    "\n",
    "$\n",
    "\\alpha^2 = \\frac{1}{2} \\left( 1 + |\\langle\\psi_1|\\psi_2\\rangle|^2 \\right),\n",
    "$\n",
    "\n",
    "we extract the overlap:\n",
    "\n",
    "$\n",
    "|\\langle\\psi_1|\\psi_2\\rangle|^2 = \\sqrt{2P\\left(q_{\\text{test}} = |0\\rangle\\right) - 1}.\n",
    "$\n",
    "\n",
    "The exact overlap is computed with the dot product of the two state vectors. Note that for the sake of this demonstration, we execute this circuit 100,000 times to improve the precision of the probability estimate. This is usually not required in actual programs.\n"
   ]
  },
  {
   "cell_type": "code",
   "execution_count": 25,
   "metadata": {},
   "outputs": [
    {
     "name": "stdout",
     "output_type": "stream",
     "text": [
      "States overlap from Swap-Test result: 0.7027090436304346\n",
      "States overlap from classical calculation: 0.7019633513086099\n"
     ]
    }
   ],
   "source": [
    "write_qmod(qmod, \"qsite_challenge_3\", decimal_precision=15)\n",
    "\n",
    "res = execute(qprog).result()\n",
    "\n",
    "# Comparing the measured overlap with the exact overlap\n",
    "overlap_from_swap_test = np.sqrt(\n",
    "    2 * res[0].value.counts[\"0\"] / sum(res[0].value.counts.values()) - 1\n",
    ")\n",
    "exact_overlap = np.abs(amps1 @ amps2)\n",
    "\n",
    "print(\"States overlap from Swap-Test result:\", overlap_from_swap_test)\n",
    "print(\"States overlap from classical calculation:\", exact_overlap)\n",
    "\n",
    "RTOL = 0.05\n",
    "assert np.isclose(\n",
    "    overlap_from_swap_test, exact_overlap, RTOL\n",
    "), f\"\"\"\n",
    "The quantum result is too far from the classical one, by a relative tolerance of {RTOL}.\n",
    "\"\"\""
   ]
  },
  {
   "cell_type": "markdown",
   "metadata": {},
   "source": [
    "### Now save the QASM file for Grading!"
   ]
  },
  {
   "cell_type": "code",
   "execution_count": 26,
   "metadata": {},
   "outputs": [
    {
     "name": "stdout",
     "output_type": "stream",
     "text": [
      "QASM file saved at: qsite_challenge_3.qasm\n"
     ]
    }
   ],
   "source": [
    "qasm = QuantumProgram.from_qprog(qprog).qasm\n",
    "\n",
    "# Specify the file path where you want to save the QASM file\n",
    "file_path = \"qsite_challenge_3.qasm\"\n",
    "\n",
    "# Save the QASM string to a file\n",
    "with open(file_path, 'w') as file:\n",
    "    file.write(qasm)\n",
    "\n",
    "print(f\"QASM file saved at: {file_path}\")"
   ]
  },
  {
   "cell_type": "markdown",
   "metadata": {},
   "source": [
    "### **Challenge Summary**\n",
    "\n",
    "In this challenge, you have constructed and executed a quantum circuit using the Swap Test to measure the overlap between two quantum states. By comparing the quantum result with the classical calculation, you have demonstrated the accuracy and efficiency of quantum algorithms in state comparison tasks.\n",
    "\n",
    "This exercise showcases how quantum circuits can be used to solve complex problems in quantum computing, such as state similarity detection, with precision and scalability.\n",
    "\n",
    "🎉  Now, it's time to run your circuit and see the power of the Swap Test in action!"
   ]
  },
  {
   "cell_type": "markdown",
   "metadata": {},
   "source": [
    "## Additional information\n",
    "\n",
    "#### Created by : Louis Chen\n",
    "\n",
    "#### Advised by : Tali Cohn, Eden Schirman  "
   ]
  }
 ],
 "metadata": {
  "kernelspec": {
   "display_name": "Python 3",
   "language": "python",
   "name": "python3"
  },
  "language_info": {
   "codemirror_mode": {
    "name": "ipython",
    "version": 3
   },
   "file_extension": ".py",
   "mimetype": "text/x-python",
   "name": "python",
   "nbconvert_exporter": "python",
   "pygments_lexer": "ipython3",
   "version": "3.11.4"
  }
 },
 "nbformat": 4,
 "nbformat_minor": 2
}
